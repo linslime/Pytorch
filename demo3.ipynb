{
 "cells": [
  {
   "cell_type": "code",
   "execution_count": 1,
   "metadata": {
    "collapsed": true,
    "pycharm": {
     "name": "#%%\n"
    }
   },
   "outputs": [],
   "source": [
    "import torch\n",
    "import torch.nn.functional as F\n",
    "import torch.nn as nn\n",
    "x = torch.randn(5, 5)"
   ]
  },
  {
   "cell_type": "code",
   "execution_count": 2,
   "outputs": [
    {
     "name": "stdout",
     "output_type": "stream",
     "text": [
      "tensor([[ 0.3368, -1.7569, -0.6021,  0.2159,  2.5563],\n",
      "        [-0.3027, -0.4771,  0.2575, -0.2526, -0.8680],\n",
      "        [ 1.4113,  2.8128, -1.8577,  1.1255, -0.7856],\n",
      "        [-1.4850,  2.5400, -0.5721, -0.2935,  0.2038],\n",
      "        [-1.2397, -0.2223,  1.0395,  0.0317, -0.8771]])\n"
     ]
    }
   ],
   "source": [
    "print(x)"
   ],
   "metadata": {
    "collapsed": false,
    "pycharm": {
     "name": "#%%\n"
    }
   }
  },
  {
   "cell_type": "code",
   "execution_count": 4,
   "outputs": [],
   "source": [
    "target = torch.tensor([0, 2, 3, 1, 4]) # 标签\n",
    "one_hot = F.one_hot(target).float() # 对标签进行one_hot编码"
   ],
   "metadata": {
    "collapsed": false,
    "pycharm": {
     "name": "#%%\n"
    }
   }
  },
  {
   "cell_type": "code",
   "execution_count": 5,
   "outputs": [
    {
     "name": "stdout",
     "output_type": "stream",
     "text": [
      "tensor([[1., 0., 0., 0., 0.],\n",
      "        [0., 0., 1., 0., 0.],\n",
      "        [0., 0., 0., 1., 0.],\n",
      "        [0., 1., 0., 0., 0.],\n",
      "        [0., 0., 0., 0., 1.]])\n"
     ]
    }
   ],
   "source": [
    "print(one_hot)"
   ],
   "metadata": {
    "collapsed": false,
    "pycharm": {
     "name": "#%%\n"
    }
   }
  },
  {
   "cell_type": "code",
   "execution_count": 6,
   "outputs": [],
   "source": [
    "softmax = torch.exp(x)/torch.sum(torch.exp(x), dim = 1).reshape(-1, 1)"
   ],
   "metadata": {
    "collapsed": false,
    "pycharm": {
     "name": "#%%\n"
    }
   }
  },
  {
   "cell_type": "code",
   "execution_count": 7,
   "outputs": [
    {
     "name": "stdout",
     "output_type": "stream",
     "text": [
      "tensor([[0.0862, 0.0106, 0.0337, 0.0764, 0.7931],\n",
      "        [0.1919, 0.1612, 0.3360, 0.2018, 0.1091],\n",
      "        [0.1677, 0.6812, 0.0064, 0.1260, 0.0186],\n",
      "        [0.0147, 0.8211, 0.0365, 0.0483, 0.0794],\n",
      "        [0.0539, 0.1492, 0.5270, 0.1924, 0.0775]])\n"
     ]
    }
   ],
   "source": [
    "print(softmax)"
   ],
   "metadata": {
    "collapsed": false,
    "pycharm": {
     "name": "#%%\n"
    }
   }
  },
  {
   "cell_type": "code",
   "execution_count": 8,
   "outputs": [
    {
     "name": "stdout",
     "output_type": "stream",
     "text": [
      "tensor([[-2.4513, -4.5450, -3.3902, -2.5722, -0.2318],\n",
      "        [-1.6507, -1.8251, -1.0905, -1.6005, -2.2159],\n",
      "        [-1.7854, -0.3839, -5.0544, -2.0711, -3.9822],\n",
      "        [-4.2221, -0.1971, -3.3092, -3.0306, -2.5333],\n",
      "        [-2.9198, -1.9024, -0.6406, -1.6484, -2.5572]])\n"
     ]
    }
   ],
   "source": [
    "logsoftmax = torch.log(softmax)\n",
    "print(logsoftmax)"
   ],
   "metadata": {
    "collapsed": false,
    "pycharm": {
     "name": "#%%\n"
    }
   }
  },
  {
   "cell_type": "code",
   "execution_count": 9,
   "outputs": [
    {
     "name": "stdout",
     "output_type": "stream",
     "text": [
      "5\n"
     ]
    }
   ],
   "source": [
    "print(target.shape[0])"
   ],
   "metadata": {
    "collapsed": false,
    "pycharm": {
     "name": "#%%\n"
    }
   }
  },
  {
   "cell_type": "code",
   "execution_count": 17,
   "outputs": [
    {
     "name": "stdout",
     "output_type": "stream",
     "text": [
      "tensor(1.6734)\n"
     ]
    }
   ],
   "source": [
    "nllloss = -torch.sum(one_hot*logsoftmax)/target.shape[0]\n",
    "print(nllloss)"
   ],
   "metadata": {
    "collapsed": false,
    "pycharm": {
     "name": "#%%\n"
    }
   }
  },
  {
   "cell_type": "code",
   "execution_count": 11,
   "outputs": [
    {
     "name": "stdout",
     "output_type": "stream",
     "text": [
      "tensor([[-2.4513, -4.5450, -3.3902, -2.5722, -0.2318],\n",
      "        [-1.6507, -1.8251, -1.0905, -1.6005, -2.2159],\n",
      "        [-1.7854, -0.3839, -5.0544, -2.0711, -3.9822],\n",
      "        [-4.2221, -0.1971, -3.3092, -3.0306, -2.5333],\n",
      "        [-2.9198, -1.9024, -0.6406, -1.6484, -2.5572]])\n"
     ]
    }
   ],
   "source": [
    "logsoftmax = F.log_softmax(x, dim = 1)\n",
    "print(logsoftmax)"
   ],
   "metadata": {
    "collapsed": false,
    "pycharm": {
     "name": "#%%\n"
    }
   }
  },
  {
   "cell_type": "code",
   "execution_count": 12,
   "outputs": [
    {
     "name": "stdout",
     "output_type": "stream",
     "text": [
      "tensor(1.6734)\n"
     ]
    }
   ],
   "source": [
    "nllloss = F.nll_loss(logsoftmax, target)\n",
    "print(nllloss)"
   ],
   "metadata": {
    "collapsed": false,
    "pycharm": {
     "name": "#%%\n"
    }
   }
  },
  {
   "cell_type": "code",
   "execution_count": 13,
   "outputs": [
    {
     "name": "stdout",
     "output_type": "stream",
     "text": [
      "tensor(1.6734)\n"
     ]
    }
   ],
   "source": [
    "cross_entropy = F.cross_entropy(x, target)\n",
    "print(cross_entropy)"
   ],
   "metadata": {
    "collapsed": false,
    "pycharm": {
     "name": "#%%\n"
    }
   }
  },
  {
   "cell_type": "code",
   "execution_count": 15,
   "outputs": [
    {
     "name": "stdout",
     "output_type": "stream",
     "text": [
      "tensor(1.6734)\n"
     ]
    }
   ],
   "source": [
    "loss = torch.nn.CrossEntropyLoss()\n",
    "c = loss(x, target)\n",
    "print(c)"
   ],
   "metadata": {
    "collapsed": false,
    "pycharm": {
     "name": "#%%\n"
    }
   }
  }
 ],
 "metadata": {
  "kernelspec": {
   "display_name": "Python 3",
   "language": "python",
   "name": "python3"
  },
  "language_info": {
   "codemirror_mode": {
    "name": "ipython",
    "version": 2
   },
   "file_extension": ".py",
   "mimetype": "text/x-python",
   "name": "python",
   "nbconvert_exporter": "python",
   "pygments_lexer": "ipython2",
   "version": "2.7.6"
  }
 },
 "nbformat": 4,
 "nbformat_minor": 0
}